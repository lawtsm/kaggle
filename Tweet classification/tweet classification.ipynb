{
 "cells": [
  {
   "cell_type": "code",
   "execution_count": 1,
   "metadata": {
    "_cell_guid": "b1076dfc-b9ad-4769-8c92-a6c4dae69d19",
    "_uuid": "8f2839f25d086af736a60e9eeb907d3b93b6e0e5"
   },
   "outputs": [
    {
     "name": "stdout",
     "output_type": "stream",
     "text": [
      "/kaggle/input/nlp-getting-started/sample_submission.csv\n",
      "/kaggle/input/nlp-getting-started/test.csv\n",
      "/kaggle/input/nlp-getting-started/train.csv\n",
      "/kaggle/input/gloveglobalvectors/glove.6B.100d.txt\n"
     ]
    }
   ],
   "source": [
    "import numpy as np\n",
    "import pandas as pd\n",
    "import seaborn as sns\n",
    "import lightgbm as lgb\n",
    "import matplotlib.pyplot as plt\n",
    "import warnings, os, random, string\n",
    "\n",
    "warnings.filterwarnings(\"ignore\")\n",
    "random.seed(0)\n",
    "\n",
    "import os\n",
    "for dirname, _, filenames in os.walk('/kaggle/input'):\n",
    "    for filename in filenames:\n",
    "        print(os.path.join(dirname, filename))"
   ]
  },
  {
   "cell_type": "code",
   "execution_count": 2,
   "metadata": {},
   "outputs": [
    {
     "name": "stderr",
     "output_type": "stream",
     "text": [
      "Using TensorFlow backend.\n"
     ]
    }
   ],
   "source": [
    "import nltk, re\n",
    "from tqdm import tqdm\n",
    "from sklearn.preprocessing import LabelEncoder\n",
    "from sklearn.model_selection import GridSearchCV\n",
    "from sklearn.feature_extraction.text import TfidfVectorizer, CountVectorizer\n",
    "from nltk.corpus import stopwords\n",
    "from nltk.stem import PorterStemmer, WordNetLemmatizer\n",
    "from nltk.tokenize import word_tokenize\n",
    "\n",
    "from keras.models import Sequential\n",
    "from keras.layers import Embedding,LSTM,Dense,SpatialDropout1D\n",
    "from keras.preprocessing.text import Tokenizer\n",
    "from keras.preprocessing.sequence import pad_sequences\n",
    "from keras.initializers import Constant\n",
    "from sklearn.model_selection import train_test_split\n",
    "from keras.optimizers import Adam\n"
   ]
  },
  {
   "cell_type": "code",
   "execution_count": 3,
   "metadata": {
    "_cell_guid": "79c7e3d0-c299-4dcb-8224-4455121ee9b0",
    "_uuid": "d629ff2d2480ee46fbb7e2d37f6b5fab8052498a"
   },
   "outputs": [],
   "source": [
    "pre = '/kaggle/input/nlp-getting-started/'\n",
    "train_df = pd.read_csv(pre + 'train.csv')\n",
    "test_df = pd.read_csv(pre + 'test.csv')"
   ]
  },
  {
   "cell_type": "markdown",
   "metadata": {},
   "source": [
    "***1) Exploratary Data Analysis***"
   ]
  },
  {
   "cell_type": "code",
   "execution_count": 4,
   "metadata": {},
   "outputs": [
    {
     "name": "stdout",
     "output_type": "stream",
     "text": [
      "(7613, 5)\n",
      "3342\n",
      "222 \n",
      "\n",
      "id          0.000000\n",
      "keyword     0.008013\n",
      "location    0.332720\n",
      "text        0.000000\n",
      "target      0.000000\n",
      "dtype: float64\n"
     ]
    },
    {
     "data": {
      "text/html": [
       "<div>\n",
       "<style scoped>\n",
       "    .dataframe tbody tr th:only-of-type {\n",
       "        vertical-align: middle;\n",
       "    }\n",
       "\n",
       "    .dataframe tbody tr th {\n",
       "        vertical-align: top;\n",
       "    }\n",
       "\n",
       "    .dataframe thead th {\n",
       "        text-align: right;\n",
       "    }\n",
       "</style>\n",
       "<table border=\"1\" class=\"dataframe\">\n",
       "  <thead>\n",
       "    <tr style=\"text-align: right;\">\n",
       "      <th></th>\n",
       "      <th>id</th>\n",
       "      <th>keyword</th>\n",
       "      <th>location</th>\n",
       "      <th>text</th>\n",
       "      <th>target</th>\n",
       "    </tr>\n",
       "  </thead>\n",
       "  <tbody>\n",
       "    <tr>\n",
       "      <th>0</th>\n",
       "      <td>1</td>\n",
       "      <td>NaN</td>\n",
       "      <td>NaN</td>\n",
       "      <td>Our Deeds are the Reason of this #earthquake M...</td>\n",
       "      <td>1</td>\n",
       "    </tr>\n",
       "    <tr>\n",
       "      <th>1</th>\n",
       "      <td>4</td>\n",
       "      <td>NaN</td>\n",
       "      <td>NaN</td>\n",
       "      <td>Forest fire near La Ronge Sask. Canada</td>\n",
       "      <td>1</td>\n",
       "    </tr>\n",
       "    <tr>\n",
       "      <th>2</th>\n",
       "      <td>5</td>\n",
       "      <td>NaN</td>\n",
       "      <td>NaN</td>\n",
       "      <td>All residents asked to 'shelter in place' are ...</td>\n",
       "      <td>1</td>\n",
       "    </tr>\n",
       "    <tr>\n",
       "      <th>3</th>\n",
       "      <td>6</td>\n",
       "      <td>NaN</td>\n",
       "      <td>NaN</td>\n",
       "      <td>13,000 people receive #wildfires evacuation or...</td>\n",
       "      <td>1</td>\n",
       "    </tr>\n",
       "    <tr>\n",
       "      <th>4</th>\n",
       "      <td>7</td>\n",
       "      <td>NaN</td>\n",
       "      <td>NaN</td>\n",
       "      <td>Just got sent this photo from Ruby #Alaska as ...</td>\n",
       "      <td>1</td>\n",
       "    </tr>\n",
       "  </tbody>\n",
       "</table>\n",
       "</div>"
      ],
      "text/plain": [
       "   id keyword location                                               text  \\\n",
       "0   1     NaN      NaN  Our Deeds are the Reason of this #earthquake M...   \n",
       "1   4     NaN      NaN             Forest fire near La Ronge Sask. Canada   \n",
       "2   5     NaN      NaN  All residents asked to 'shelter in place' are ...   \n",
       "3   6     NaN      NaN  13,000 people receive #wildfires evacuation or...   \n",
       "4   7     NaN      NaN  Just got sent this photo from Ruby #Alaska as ...   \n",
       "\n",
       "   target  \n",
       "0       1  \n",
       "1       1  \n",
       "2       1  \n",
       "3       1  \n",
       "4       1  "
      ]
     },
     "execution_count": 4,
     "metadata": {},
     "output_type": "execute_result"
    }
   ],
   "source": [
    "print(train_df.shape)\n",
    "print(len(train_df.location.unique()))\n",
    "print(len(train_df.keyword.unique()), '\\n')\n",
    "print(train_df.isnull().sum()/len(train_df)) #location not a reliable variable\n",
    "train_df.head()"
   ]
  },
  {
   "cell_type": "code",
   "execution_count": 5,
   "metadata": {},
   "outputs": [
    {
     "name": "stdout",
     "output_type": "stream",
     "text": [
      "(3263, 4)\n",
      "1603\n",
      "222 \n",
      "\n",
      "id          0.000000\n",
      "keyword     0.007968\n",
      "location    0.338645\n",
      "text        0.000000\n",
      "dtype: float64\n"
     ]
    },
    {
     "data": {
      "text/html": [
       "<div>\n",
       "<style scoped>\n",
       "    .dataframe tbody tr th:only-of-type {\n",
       "        vertical-align: middle;\n",
       "    }\n",
       "\n",
       "    .dataframe tbody tr th {\n",
       "        vertical-align: top;\n",
       "    }\n",
       "\n",
       "    .dataframe thead th {\n",
       "        text-align: right;\n",
       "    }\n",
       "</style>\n",
       "<table border=\"1\" class=\"dataframe\">\n",
       "  <thead>\n",
       "    <tr style=\"text-align: right;\">\n",
       "      <th></th>\n",
       "      <th>id</th>\n",
       "      <th>keyword</th>\n",
       "      <th>location</th>\n",
       "      <th>text</th>\n",
       "    </tr>\n",
       "  </thead>\n",
       "  <tbody>\n",
       "    <tr>\n",
       "      <th>0</th>\n",
       "      <td>0</td>\n",
       "      <td>NaN</td>\n",
       "      <td>NaN</td>\n",
       "      <td>Just happened a terrible car crash</td>\n",
       "    </tr>\n",
       "    <tr>\n",
       "      <th>1</th>\n",
       "      <td>2</td>\n",
       "      <td>NaN</td>\n",
       "      <td>NaN</td>\n",
       "      <td>Heard about #earthquake is different cities, s...</td>\n",
       "    </tr>\n",
       "    <tr>\n",
       "      <th>2</th>\n",
       "      <td>3</td>\n",
       "      <td>NaN</td>\n",
       "      <td>NaN</td>\n",
       "      <td>there is a forest fire at spot pond, geese are...</td>\n",
       "    </tr>\n",
       "    <tr>\n",
       "      <th>3</th>\n",
       "      <td>9</td>\n",
       "      <td>NaN</td>\n",
       "      <td>NaN</td>\n",
       "      <td>Apocalypse lighting. #Spokane #wildfires</td>\n",
       "    </tr>\n",
       "    <tr>\n",
       "      <th>4</th>\n",
       "      <td>11</td>\n",
       "      <td>NaN</td>\n",
       "      <td>NaN</td>\n",
       "      <td>Typhoon Soudelor kills 28 in China and Taiwan</td>\n",
       "    </tr>\n",
       "  </tbody>\n",
       "</table>\n",
       "</div>"
      ],
      "text/plain": [
       "   id keyword location                                               text\n",
       "0   0     NaN      NaN                 Just happened a terrible car crash\n",
       "1   2     NaN      NaN  Heard about #earthquake is different cities, s...\n",
       "2   3     NaN      NaN  there is a forest fire at spot pond, geese are...\n",
       "3   9     NaN      NaN           Apocalypse lighting. #Spokane #wildfires\n",
       "4  11     NaN      NaN      Typhoon Soudelor kills 28 in China and Taiwan"
      ]
     },
     "execution_count": 5,
     "metadata": {},
     "output_type": "execute_result"
    }
   ],
   "source": [
    "print(test_df.shape)\n",
    "print(len(test_df.location.unique()))\n",
    "print(len(test_df.keyword.unique()), '\\n')\n",
    "print(test_df.isnull().sum()/len(test_df))\n",
    "test_df.head()"
   ]
  },
  {
   "cell_type": "code",
   "execution_count": 6,
   "metadata": {},
   "outputs": [
    {
     "name": "stdout",
     "output_type": "stream",
     "text": [
      "Count of 0s: 4342\n",
      "Count of 1s: 3271\n"
     ]
    },
    {
     "data": {
      "image/png": "[encoded data removed]",
      "text/plain": [
       "<Figure size 432x288 with 1 Axes>"
      ]
     },
     "metadata": {
      "needs_background": "light"
     },
     "output_type": "display_data"
    }
   ],
   "source": [
    "sns.countplot(train_df.target, data=train_df);\n",
    "print('Count of 0s: {}'.format(len(train_df[train_df.target==0])))\n",
    "print('Count of 1s: {}'.format(len(train_df[train_df.target==1])))\n",
    "#count of response variable is balanced"
   ]
  },
  {
   "cell_type": "code",
   "execution_count": 7,
   "metadata": {},
   "outputs": [
    {
     "name": "stdout",
     "output_type": "stream",
     "text": [
      "9\n",
      "45\n",
      "['debris', 'derailment', 'wreckage']\n"
     ]
    },
    {
     "data": {
      "text/html": [
       "<div>\n",
       "<style scoped>\n",
       "    .dataframe tbody tr th:only-of-type {\n",
       "        vertical-align: middle;\n",
       "    }\n",
       "\n",
       "    .dataframe tbody tr th {\n",
       "        vertical-align: top;\n",
       "    }\n",
       "\n",
       "    .dataframe thead th {\n",
       "        text-align: right;\n",
       "    }\n",
       "</style>\n",
       "<table border=\"1\" class=\"dataframe\">\n",
       "  <thead>\n",
       "    <tr style=\"text-align: right;\">\n",
       "      <th></th>\n",
       "      <th>keyword</th>\n",
       "      <th>Cnt</th>\n",
       "      <th>Total</th>\n",
       "      <th>Prob</th>\n",
       "    </tr>\n",
       "  </thead>\n",
       "  <tbody>\n",
       "    <tr>\n",
       "      <th>62</th>\n",
       "      <td>debris</td>\n",
       "      <td>37</td>\n",
       "      <td>37</td>\n",
       "      <td>1.000000</td>\n",
       "    </tr>\n",
       "    <tr>\n",
       "      <th>219</th>\n",
       "      <td>wreckage</td>\n",
       "      <td>39</td>\n",
       "      <td>39</td>\n",
       "      <td>1.000000</td>\n",
       "    </tr>\n",
       "    <tr>\n",
       "      <th>70</th>\n",
       "      <td>derailment</td>\n",
       "      <td>39</td>\n",
       "      <td>39</td>\n",
       "      <td>1.000000</td>\n",
       "    </tr>\n",
       "    <tr>\n",
       "      <th>153</th>\n",
       "      <td>outbreak</td>\n",
       "      <td>40</td>\n",
       "      <td>39</td>\n",
       "      <td>0.975000</td>\n",
       "    </tr>\n",
       "    <tr>\n",
       "      <th>152</th>\n",
       "      <td>oil%20spill</td>\n",
       "      <td>38</td>\n",
       "      <td>37</td>\n",
       "      <td>0.973684</td>\n",
       "    </tr>\n",
       "    <tr>\n",
       "      <th>205</th>\n",
       "      <td>typhoon</td>\n",
       "      <td>38</td>\n",
       "      <td>37</td>\n",
       "      <td>0.973684</td>\n",
       "    </tr>\n",
       "    <tr>\n",
       "      <th>187</th>\n",
       "      <td>suicide%20bombing</td>\n",
       "      <td>33</td>\n",
       "      <td>32</td>\n",
       "      <td>0.969697</td>\n",
       "    </tr>\n",
       "    <tr>\n",
       "      <th>186</th>\n",
       "      <td>suicide%20bomber</td>\n",
       "      <td>31</td>\n",
       "      <td>30</td>\n",
       "      <td>0.967742</td>\n",
       "    </tr>\n",
       "    <tr>\n",
       "      <th>32</th>\n",
       "      <td>bombing</td>\n",
       "      <td>29</td>\n",
       "      <td>27</td>\n",
       "      <td>0.931034</td>\n",
       "    </tr>\n",
       "    <tr>\n",
       "      <th>166</th>\n",
       "      <td>rescuers</td>\n",
       "      <td>35</td>\n",
       "      <td>32</td>\n",
       "      <td>0.914286</td>\n",
       "    </tr>\n",
       "  </tbody>\n",
       "</table>\n",
       "</div>"
      ],
      "text/plain": [
       "               keyword  Cnt  Total      Prob\n",
       "62              debris   37     37  1.000000\n",
       "219           wreckage   39     39  1.000000\n",
       "70          derailment   39     39  1.000000\n",
       "153           outbreak   40     39  0.975000\n",
       "152        oil%20spill   38     37  0.973684\n",
       "205            typhoon   38     37  0.973684\n",
       "187  suicide%20bombing   33     32  0.969697\n",
       "186   suicide%20bomber   31     30  0.967742\n",
       "32             bombing   29     27  0.931034\n",
       "166           rescuers   35     32  0.914286"
      ]
     },
     "execution_count": 7,
     "metadata": {},
     "output_type": "execute_result"
    }
   ],
   "source": [
    "keywordtbl = train_df.groupby('keyword')['target'].aggregate({'Cnt': 'count', 'Total': 'sum', 'Prob': 'mean'}).reset_index()\n",
    "print(keywordtbl.Cnt.min())\n",
    "print(keywordtbl.Cnt.max())\n",
    "keywords_high_p = list(keywordtbl[(keywordtbl['Cnt'] > 4) & (keywordtbl['Prob'] > 0.98)]['keyword'])\n",
    "print(keywords_high_p)\n",
    "keywordtbl.sort_values('Prob', ascending=False).head(10)"
   ]
  },
  {
   "cell_type": "code",
   "execution_count": 8,
   "metadata": {},
   "outputs": [
    {
     "data": {
      "image/png": "[encoded data removed]",
      "text/plain": [
       "<Figure size 720x360 with 2 Axes>"
      ]
     },
     "metadata": {
      "needs_background": "light"
     },
     "output_type": "display_data"
    }
   ],
   "source": [
    "fig, (ax1, ax2) = plt.subplots(1, 2, figsize=(10,5))\n",
    "tweetlen = train_df[train_df['target']==1]['text'].str.len()\n",
    "ax1.hist(tweetlen, color='red')\n",
    "ax1.set_title('Disaster tweets')\n",
    "tweetlen = train_df[train_df['target']==0]['text'].str.len()\n",
    "ax2.hist(tweetlen, color='blue')\n",
    "ax2.set_title('non-Disaster tweets')\n",
    "fig.suptitle('Num of characters in tweets')\n",
    "plt.show()"
   ]
  },
  {
   "cell_type": "code",
   "execution_count": 9,
   "metadata": {},
   "outputs": [
    {
     "data": {
      "text/plain": [
       "<function matplotlib.pyplot.show(*args, **kw)>"
      ]
     },
     "execution_count": 9,
     "metadata": {},
     "output_type": "execute_result"
    },
    {
     "data": {
      "image/png": "[encoded data removed]",
      "text/plain": [
       "<Figure size 720x360 with 2 Axes>"
      ]
     },
     "metadata": {
      "needs_background": "light"
     },
     "output_type": "display_data"
    }
   ],
   "source": [
    "fig, (ax1, ax2) = plt.subplots(1, 2, figsize=(10,5))\n",
    "tweetlen = train_df[train_df['target']==1]['text'].str.split().apply(lambda x: len(x))\n",
    "ax1.hist(tweetlen, color = 'red')\n",
    "ax1.set_title('Disaster tweets')\n",
    "tweetlen = train_df[train_df['target']==0]['text'].str.split().apply(lambda x: len(x))\n",
    "ax2.hist(tweetlen, color = 'blue')\n",
    "ax2.set_title('non-Disaster tweets')\n",
    "plt.show"
   ]
  },
  {
   "cell_type": "code",
   "execution_count": 10,
   "metadata": {},
   "outputs": [
    {
     "name": "stdout",
     "output_type": "stream",
     "text": [
      "Percentage of non-null keywords in non-disaster tweets: 0.5678444765532642\n",
      "Percentage of non-null keywords in disaster tweets: 0.42414291343754107\n"
     ]
    }
   ],
   "source": [
    "#keywords & target\n",
    "print('Percentage of non-null keywords in non-disaster tweets: {}'.format(len(train_df[(pd.notnull(train_df.keyword)) & (train_df.target == 0)])/len(train_df.target == 0)))\n",
    "print('Percentage of non-null keywords in disaster tweets: {}'.format(len(train_df[(pd.notnull(train_df.keyword)) & (train_df.target == 1)])/len(train_df.target == 1)))"
   ]
  },
  {
   "cell_type": "code",
   "execution_count": 11,
   "metadata": {},
   "outputs": [],
   "source": [
    "#Frequent stop words\n",
    "from collections import defaultdict\n",
    "def create_corpus(target):\n",
    "    corpus=[]\n",
    "    \n",
    "    for x in train_df[train_df['target']==target]['text'].str.split():\n",
    "        for i in x:\n",
    "            corpus.append(i)\n",
    "    return corpus\n",
    "\n",
    "corpus=create_corpus(0)\n",
    "stop=set(stopwords.words('english'))\n",
    "\n",
    "dic=defaultdict(int)\n",
    "for word in corpus:\n",
    "    if word in stop:\n",
    "        dic[word]+=1\n",
    "        \n",
    "top=sorted(dic.items(), key=lambda x:x[1],reverse=True)[:10] \n",
    "\n",
    "x, y = zip(*top)"
   ]
  },
  {
   "cell_type": "code",
   "execution_count": 12,
   "metadata": {},
   "outputs": [
    {
     "data": {
      "text/plain": [
       "<matplotlib.axes._subplots.AxesSubplot at 0x7f8f9f8ae6d8>"
      ]
     },
     "execution_count": 12,
     "metadata": {},
     "output_type": "execute_result"
    },
    {
     "data": {
      "image/png": "[encoded data removed]",
      "text/plain": [
       "<Figure size 720x360 with 1 Axes>"
      ]
     },
     "metadata": {
      "needs_background": "light"
     },
     "output_type": "display_data"
    }
   ],
   "source": [
    "def get_top_bigrams(corpus, n=None):\n",
    "    corpus = train_df['text']\n",
    "    vec = CountVectorizer(ngram_range=(2,2)).fit(corpus)\n",
    "    bag_of_words = vec.transform(corpus)\n",
    "    sum_words = bag_of_words.sum(axis=0)\n",
    "    words_freq = [(word, sum_words[0, idx]) for word, idx in vec.vocabulary_.items()]\n",
    "    words_freq = sorted(words_freq, key = lambda x: x[1], reverse = True)\n",
    "    return words_freq[:n]\n",
    "\n",
    "plt.figure(figsize=(10,5))\n",
    "top_bigrams = get_top_bigrams(train_df['text'])[:10]\n",
    "top_bigrams\n",
    "x, y = map(list, zip(*top_bigrams))\n",
    "sns.barplot(y=x,x=y)\n"
   ]
  },
  {
   "cell_type": "code",
   "execution_count": 13,
   "metadata": {},
   "outputs": [
    {
     "name": "stdout",
     "output_type": "stream",
     "text": [
      "% of disaster tweets with @: 20.67%\n",
      "% of non-disaster tweets with @: 31.39%\n"
     ]
    },
    {
     "data": {
      "image/png": "[encoded data removed]",
      "text/plain": [
       "<Figure size 720x360 with 2 Axes>"
      ]
     },
     "metadata": {
      "needs_background": "light"
     },
     "output_type": "display_data"
    }
   ],
   "source": [
    "#distribution of @s in tweets\n",
    "ref0 = train_df[train_df['target']==0]['text'].str.findall(r'[@]').apply(lambda x: len(x)>0)\n",
    "ref1 = train_df[train_df['target']==1]['text'].str.findall(r'[@]').apply(lambda x: len(x)>0)\n",
    "\n",
    "countref0 = train_df[train_df['target']==0]['text'].str.findall(r'[@]').apply(lambda x: len(x))\n",
    "countref1 = train_df[train_df['target']==1]['text'].str.findall(r'[@]').apply(lambda x: len(x))\n",
    "\n",
    "print('% of disaster tweets with @: {:.2%}'.format(ref1.mean()))\n",
    "print('% of non-disaster tweets with @: {:.2%}'.format(ref0.mean()))\n",
    "\n",
    "fig, (ax1, ax2) = plt.subplots(1, 2, figsize=(10,5))\n",
    "_ = ax1.hist(countref1, color = 'red')\n",
    "_ = ax1.set_title('count of @s Disaster tweets')\n",
    "_ = ax2.hist(countref0, color = 'blue')\n",
    "_ = ax2.set_title('count of @s non-Disaster tweets')"
   ]
  },
  {
   "cell_type": "markdown",
   "metadata": {},
   "source": [
    "***2) Feature Extraction***"
   ]
  },
  {
   "cell_type": "code",
   "execution_count": 17,
   "metadata": {},
   "outputs": [
    {
     "data": {
      "text/html": [
       "<div>\n",
       "<style scoped>\n",
       "    .dataframe tbody tr th:only-of-type {\n",
       "        vertical-align: middle;\n",
       "    }\n",
       "\n",
       "    .dataframe tbody tr th {\n",
       "        vertical-align: top;\n",
       "    }\n",
       "\n",
       "    .dataframe thead th {\n",
       "        text-align: right;\n",
       "    }\n",
       "</style>\n",
       "<table border=\"1\" class=\"dataframe\">\n",
       "  <thead>\n",
       "    <tr style=\"text-align: right;\">\n",
       "      <th></th>\n",
       "      <th>digit_count</th>\n",
       "      <th>nonword_char_count</th>\n",
       "      <th>length_space</th>\n",
       "      <th>keyword_woe</th>\n",
       "      <th>4d_element</th>\n",
       "    </tr>\n",
       "    <tr>\n",
       "      <th>target</th>\n",
       "      <th></th>\n",
       "      <th></th>\n",
       "      <th></th>\n",
       "      <th></th>\n",
       "      <th></th>\n",
       "    </tr>\n",
       "  </thead>\n",
       "  <tbody>\n",
       "    <tr>\n",
       "      <th>0</th>\n",
       "      <td>1.590511</td>\n",
       "      <td>6.423768</td>\n",
       "      <td>95.706817</td>\n",
       "      <td>-0.674231</td>\n",
       "      <td>0.006218</td>\n",
       "    </tr>\n",
       "    <tr>\n",
       "      <th>1</th>\n",
       "      <td>2.637420</td>\n",
       "      <td>7.701620</td>\n",
       "      <td>108.113421</td>\n",
       "      <td>0.816410</td>\n",
       "      <td>0.025986</td>\n",
       "    </tr>\n",
       "  </tbody>\n",
       "</table>\n",
       "</div>"
      ],
      "text/plain": [
       "        digit_count  nonword_char_count  length_space  keyword_woe  4d_element\n",
       "target                                                                        \n",
       "0          1.590511            6.423768     95.706817    -0.674231    0.006218\n",
       "1          2.637420            7.701620    108.113421     0.816410    0.025986"
      ]
     },
     "execution_count": 17,
     "metadata": {},
     "output_type": "execute_result"
    }
   ],
   "source": [
    "def ext_features(df):\n",
    "    #Create features on original text\n",
    "    textvect = df['text']\n",
    "    stextvect = df['text'].apply(lambda x: x.replace(' ', ''))\n",
    "    df['digit_count'] = textvect.str.count(r'\\d')\n",
    "    df['nonword_char_count'] = stextvect.str.count(r'[\\W]')\n",
    "    df['length_space'] = textvect.str.len()\n",
    "    df['length_no_space'] = stextvect.str.len()\n",
    "\n",
    "    #'d?d:dd' [inaccurate]\n",
    "    df['4d_element'] = df['text'].str.findall(r'(\\d?\\d):(\\d\\d)')\n",
    "    df['4d_element'] = df['4d_element'].apply(lambda x: len(x)!=0)\n",
    "    return df\n",
    "\n",
    "train_df = ext_features(train_df)\n",
    "text_df = ext_features(test_df)\n",
    "\n",
    "#encoding of categorical variables (keyword)\n",
    "from category_encoders import WOEEncoder\n",
    "woedf = WOEEncoder(cols='keyword').fit_transform(train_df['keyword'], train_df['target'])\n",
    "train_df['keyword_woe'] = woedf\n",
    "keyworddict = pd.Series(train_df.keyword_woe.values,index=train_df.keyword).to_dict()\n",
    "test_df['keyword_woe'] = [keyworddict[v] for v in test_df.keyword]\n",
    "\n",
    "#0 vs 1: digit_count, nonword_char_count, length_space\n",
    "train_df.groupby(['target'])[['digit_count', 'nonword_char_count', 'length_space', 'keyword_woe', '4d_element']].mean()"
   ]
  },
  {
   "cell_type": "markdown",
   "metadata": {},
   "source": [
    "***Text Normalization***"
   ]
  },
  {
   "cell_type": "code",
   "execution_count": 18,
   "metadata": {},
   "outputs": [],
   "source": [
    "X_train = train_df['text']\n",
    "X_test = test_df['text']\n",
    "\n",
    "def norm_features(df):\n",
    "    #remove char sequence in brackets\n",
    "    df = df.apply(lambda x: re.sub('\\[.*?\\]', '', x))\n",
    "    \n",
    "    #remove links\n",
    "    df = df.apply(lambda x: re.sub('https?://\\S+|www\\.\\S+', '', x))\n",
    "    \n",
    "    #remove newlines\n",
    "    df = df.apply(lambda x: re.sub('\\n', '', x))\n",
    "    \n",
    "    #remove numbers\n",
    "    df = df.apply(lambda x: re.sub('\\w*\\d\\w*', '', x))\n",
    "\n",
    "    #remove punctuations\n",
    "    df = df.apply(lambda x: re.sub('[^\\w\\s]', '', x))\n",
    "    \n",
    "    #remove html\n",
    "    df = df.apply(lambda x: re.sub('<.*?>', '', x))\n",
    "    \n",
    "    #convert to lower case\n",
    "    df = df.apply(lambda x: x.lower())\n",
    "    \n",
    "    #remove stopwords\n",
    "    stop_words = set(stopwords.words('english'))\n",
    "    df = df.apply(lambda x: ' '.join([i for i in nltk.word_tokenize(x) if i not in stop_words]))\n",
    "    \n",
    "    #stemming\n",
    "    #stemmer = PorterStemmer()\n",
    "    #df = df.apply(lambda x: ' '.join([stemmer.stem(i) for i in nltk.word_tokenize(x)]))\n",
    "\n",
    "    #lemmatization\n",
    "    #lemmatizer=WordNetLemmatizer()\n",
    "    #df = df.apply(lambda x: ' '.join([lemmatizer.lemmatize(i) for i in nltk.word_tokenize(x)]))\n",
    "    return df\n",
    "\n",
    "X_train = norm_features(X_train)\n",
    "X_test = norm_features(X_test)"
   ]
  },
  {
   "cell_type": "markdown",
   "metadata": {},
   "source": [
    "***3) Bag of Words model (traditional method)***"
   ]
  },
  {
   "cell_type": "code",
   "execution_count": 20,
   "metadata": {},
   "outputs": [
    {
     "name": "stdout",
     "output_type": "stream",
     "text": [
      "6160\n",
      "Smallest tfidf:\n",
      "['__' 'philly' 'philadelphia' 'phil' 'phew' 'phase' 'pharaoh' 'phantom'\n",
      " 'petitiontake' 'phoenix']\n",
      "\n",
      "Largest tfidf: \n",
      "['wreck' 'fire' 'ha' 'fucking' 'built' 'bestnaijamade' 'bus' 'issues' 'gt'\n",
      " 'gtgt']\n"
     ]
    }
   ],
   "source": [
    "vect = CountVectorizer(min_df=2, max_df=0.8, analyzer='word', strip_accents = 'ascii').fit(X_train) #ngram_range=(1,2), \n",
    "print(len(vect.get_feature_names()))\n",
    "\n",
    "feature_names = np.array(vect.get_feature_names())\n",
    "X_train_vectorized = vect.transform(X_train)\n",
    "sorted_tfidf_index = X_train_vectorized.max(0).toarray()[0].argsort()\n",
    "\n",
    "print('Smallest tfidf:\\n{}\\n'.format(feature_names[sorted_tfidf_index[:10]]))\n",
    "print('Largest tfidf: \\n{}'.format(feature_names[sorted_tfidf_index[:-11:-1]]))\n",
    "\n",
    "X_test_vectorized = vect.transform(X_test)"
   ]
  },
  {
   "cell_type": "code",
   "execution_count": 22,
   "metadata": {},
   "outputs": [
    {
     "name": "stdout",
     "output_type": "stream",
     "text": [
      "(7613, 221)\n",
      "(3263, 221)\n"
     ]
    }
   ],
   "source": [
    "#train_df['keyword'].values.astype('U')\n",
    "keywordtraindf = pd.get_dummies(train_df['keyword'])\n",
    "print(keywordtraindf.shape)\n",
    "keywordtestdf = pd.get_dummies(test_df['keyword'])\n",
    "print(keywordtestdf.shape)"
   ]
  },
  {
   "cell_type": "code",
   "execution_count": 23,
   "metadata": {},
   "outputs": [],
   "source": [
    "vectorizedtraintext = pd.DataFrame(X_train_vectorized.toarray(), columns=feature_names)\n",
    "vectorizedtesttext = pd.DataFrame(X_test_vectorized.toarray(), columns=feature_names)"
   ]
  },
  {
   "cell_type": "code",
   "execution_count": 24,
   "metadata": {},
   "outputs": [
    {
     "name": "stdout",
     "output_type": "stream",
     "text": [
      "One\n"
     ]
    }
   ],
   "source": [
    "features = ['digit_count', 'nonword_char_count', 'length_space', 'length_no_space', '4d_element', 'keyword_woe']\n",
    "include_keyword_dummies = False\n",
    "include_agg_features = False\n",
    "\n",
    "if include_keyword_dummies and include_agg_features:\n",
    "    print('Three')\n",
    "    X = pd.concat([keywordtraindf, vectorizedtraintext, train_df[features]], axis=1)\n",
    "    Y = train_df['target']\n",
    "    Xtest = pd.concat([keywordtestdf, vectorizedtesttext, test_df[features]], axis=1)\n",
    "\n",
    "    feature_names = np.concatenate([np.asarray(keywordtraindf.columns), feature_names, features])\n",
    "elif include_agg_features:\n",
    "    print('Two')\n",
    "    X = pd.concat([vectorizedtraintext, train_df[features]], axis=1)\n",
    "    Y = train_df['target']\n",
    "    Xtest = pd.concat([vectorizedtesttext, test_df[features]], axis=1)\n",
    "\n",
    "else:\n",
    "    print('One')\n",
    "    X = pd.concat([vectorizedtraintext, train_df['keyword_woe']], axis=1)\n",
    "    Y = train_df['target']\n",
    "    Xtest = pd.concat([vectorizedtesttext, test_df['keyword_woe']], axis=1)\n",
    "\n",
    "    feature_names = np.concatenate([feature_names, features])"
   ]
  },
  {
   "cell_type": "code",
   "execution_count": 25,
   "metadata": {},
   "outputs": [
    {
     "name": "stdout",
     "output_type": "stream",
     "text": [
      "Smallest Coefs:\n",
      "['poll' 'ebay' 'shes' 'nowplaying' 'mode' 'cake' 'better' 'super' 'phone'\n",
      " 'arent']\n",
      "\n",
      "Largest Coefs: \n",
      "['hiroshima' 'earthquake' 'flood' 'dies' 'distance' 'horrible' 'riots'\n",
      " 'california' 'train' 'israeli']\n"
     ]
    },
    {
     "data": {
      "text/plain": [
       "0.9192134381635668"
      ]
     },
     "execution_count": 25,
     "metadata": {},
     "output_type": "execute_result"
    }
   ],
   "source": [
    "from sklearn.linear_model import LogisticRegression\n",
    "from sklearn.metrics import f1_score\n",
    "\n",
    "model = LogisticRegression()\n",
    "model.fit(X, Y)\n",
    "train_pred = model.predict(X)\n",
    "\n",
    "sorted_coef_index = model.coef_[0].argsort()\n",
    "print('Smallest Coefs:\\n{}\\n'.format(feature_names[sorted_coef_index[:10]]))\n",
    "print('Largest Coefs: \\n{}'.format(feature_names[sorted_coef_index[:-11:-1]]))\n",
    "\n",
    "f1_score(Y, train_pred, average='weighted')"
   ]
  },
  {
   "cell_type": "markdown",
   "metadata": {},
   "source": [
    "***4) Word Embeddings method***"
   ]
  },
  {
   "cell_type": "code",
   "execution_count": 26,
   "metadata": {},
   "outputs": [
    {
     "name": "stdout",
     "output_type": "stream",
     "text": [
      "(7613,)\n",
      "(3263,)\n",
      "(10876,)\n"
     ]
    }
   ],
   "source": [
    "traintest = pd.concat([X_train, X_test], axis=0)\n",
    "print(X_train.shape)\n",
    "print(X_test.shape)\n",
    "print(traintest.shape)"
   ]
  },
  {
   "cell_type": "code",
   "execution_count": 27,
   "metadata": {},
   "outputs": [
    {
     "name": "stderr",
     "output_type": "stream",
     "text": [
      "100%|██████████| 10876/10876 [00:02<00:00, 4160.68it/s]\n"
     ]
    }
   ],
   "source": [
    "def create_corpus(df):\n",
    "    corpus=[]\n",
    "    for tweet in tqdm(df):\n",
    "        words=[word.lower() for word in word_tokenize(tweet) if((word.isalpha()==1) & (word not in stop))]\n",
    "        corpus.append(words)\n",
    "    return corpus\n",
    "\n",
    "corpus = create_corpus(traintest)"
   ]
  },
  {
   "cell_type": "code",
   "execution_count": 28,
   "metadata": {},
   "outputs": [],
   "source": [
    "embedding_dict={}\n",
    "#/kaggle/input/gloveglobalvectors/glove.6B.100d.txt\n",
    "with open('../input/gloveglobalvectors/glove.6B.100d.txt','r') as f:\n",
    "    for line in f:\n",
    "        values=line.split()\n",
    "        word=values[0]\n",
    "        vectors=np.asarray(values[1:],'float32')\n",
    "        embedding_dict[word]=vectors\n",
    "f.close()"
   ]
  },
  {
   "cell_type": "code",
   "execution_count": 29,
   "metadata": {},
   "outputs": [
    {
     "name": "stdout",
     "output_type": "stream",
     "text": [
      "20341\n"
     ]
    }
   ],
   "source": [
    "max_len=50\n",
    "tokenizer_obj=Tokenizer()\n",
    "tokenizer_obj.fit_on_texts(corpus)\n",
    "sequences=tokenizer_obj.texts_to_sequences(corpus)\n",
    "tweet_pad=pad_sequences(sequences,maxlen=max_len,truncating='post',padding='post')\n",
    "word_ind = tokenizer_obj.word_index\n",
    "print(len(word_ind))"
   ]
  },
  {
   "cell_type": "code",
   "execution_count": 30,
   "metadata": {},
   "outputs": [
    {
     "name": "stdout",
     "output_type": "stream",
     "text": [
      "(20342, 100)\n"
     ]
    }
   ],
   "source": [
    "n_words = len(word_ind) + 1\n",
    "embedding_matrix = np.zeros((n_words, 100))\n",
    "print(embedding_matrix.shape)\n",
    "\n",
    "for word, i in word_ind.items():\n",
    "    embvec = embedding_dict.get(word)\n",
    "    if embvec is not None:\n",
    "        embedding_matrix[i] = embvec"
   ]
  },
  {
   "cell_type": "code",
   "execution_count": 31,
   "metadata": {},
   "outputs": [
    {
     "data": {
      "text/plain": [
       "<bound method Network.summary of <keras.engine.sequential.Sequential object at 0x7f8f556dd390>>"
      ]
     },
     "execution_count": 31,
     "metadata": {},
     "output_type": "execute_result"
    }
   ],
   "source": [
    "embedding = Embedding(n_words, 100, embeddings_initializer=Constant(embedding_matrix), input_length=max_len)\n",
    "nnmodel=Sequential(\n",
    "                [embedding,\n",
    "                 SpatialDropout1D(0.2),\n",
    "                 LSTM(64, dropout=0.2, recurrent_dropout=0.2),\n",
    "                 Dense(1, activation='sigmoid')\n",
    "                ])\n",
    "\n",
    "optimizer = Adam(learning_rate = 1e-5)\n",
    "\n",
    "nnmodel.compile(loss = 'binary_crossentropy', optimizer = optimizer, metrics = ['accuracy'])\n",
    "nnmodel.summary"
   ]
  },
  {
   "cell_type": "code",
   "execution_count": null,
   "metadata": {},
   "outputs": [
    {
     "name": "stdout",
     "output_type": "stream",
     "text": [
      "(7613, 50)\n",
      "(3263, 50)\n",
      "(7613,)\n",
      "Train on 6471 samples, validate on 1142 samples\n",
      "Epoch 1/15\n",
      " - 86s - loss: 0.6900 - accuracy: 0.5705 - val_loss: 0.6868 - val_accuracy: 0.5674\n",
      "Epoch 2/15\n",
      " - 84s - loss: 0.6821 - accuracy: 0.5709 - val_loss: 0.6690 - val_accuracy: 0.5674\n",
      "Epoch 3/15\n"
     ]
    }
   ],
   "source": [
    "#pd.concat([??, train_df['keyword_woe']], axis=1)\n",
    "nnX = tweet_pad[:X_train.shape[0]]\n",
    "nnXtest = tweet_pad[X_train.shape[0]:]\n",
    "print(nnX.shape)\n",
    "print(nnXtest.shape)\n",
    "print(Y.shape)\n",
    "\n",
    "nnXtrain, nnXvalid, nnYtrain, nnYvalid = train_test_split(nnX, Y, train_size=0.85)\n",
    "nnmodel.fit(nnXtrain, nnYtrain, batch_size=4, epochs=15, validation_data=(nnXvalid, nnYvalid), verbose=2)"
   ]
  },
  {
   "cell_type": "markdown",
   "metadata": {},
   "source": [
    "***5) Predictions***"
   ]
  },
  {
   "cell_type": "code",
   "execution_count": null,
   "metadata": {},
   "outputs": [],
   "source": [
    "#sequential\n",
    "nn_test_pred = nnmodel.predict(nnXtest)\n",
    "\n",
    "output = []\n",
    "def removeNestings(l):\n",
    "    for i in l: \n",
    "        if type(i) == list: \n",
    "            removeNestings(i) \n",
    "        else: \n",
    "            output.append(i)\n",
    "    return output\n",
    "\n",
    "nn_test_pred = removeNestings(nn_test_pred.tolist())\n",
    "\n",
    "xtestindex = test_df.id\n",
    "submission = pd.DataFrame({'id': xtestindex, 'target': list(np.round(nn_test_pred).astype(int))})\n",
    "submission.to_csv('submission_nn.csv', index=False)"
   ]
  },
  {
   "cell_type": "code",
   "execution_count": null,
   "metadata": {},
   "outputs": [],
   "source": [
    "#bagofwords/logistic\n",
    "test_pred = model.predict(Xtest)\n",
    "xtestindex = test_df.id\n",
    "submission = pd.DataFrame({'id': xtestindex, 'target': test_pred})\n",
    "submission.to_csv('submission_lr.csv', index=False)"
   ]
  },
  {
   "cell_type": "code",
   "execution_count": null,
   "metadata": {},
   "outputs": [],
   "source": []
  }
 ],
 "metadata": {
  "kernelspec": {
   "display_name": "Python 3",
   "language": "python",
   "name": "python3"
  },
  "language_info": {
   "codemirror_mode": {
    "name": "ipython",
    "version": 3
   },
   "file_extension": ".py",
   "mimetype": "text/x-python",
   "name": "python",
   "nbconvert_exporter": "python",
   "pygments_lexer": "ipython3",
   "version": "3.7.0"
  }
 },
 "nbformat": 4,
 "nbformat_minor": 4
}
